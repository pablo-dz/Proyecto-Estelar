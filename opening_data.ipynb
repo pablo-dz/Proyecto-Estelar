{
 "cells": [
  {
   "cell_type": "markdown",
   "metadata": {},
   "source": [
    "# BINARY STAR IDENTIFICATION"
   ]
  },
  {
   "cell_type": "code",
   "execution_count": 11,
   "metadata": {},
   "outputs": [],
   "source": [
    "from astropy.io import fits\n",
    "from astropy.stats import sigma_clipped_stats\n",
    "from astropy.visualization.mpl_normalize import simple_norm\n",
    "import matplotlib.pyplot as plt\n",
    "import numpy as np\n",
    "import os \n",
    "import shutil\n",
    "import glob\n",
    "import matplotlib.pyplot as plt\n",
    "import astropy.units as u\n",
    "from astropy.table import Column\n",
    "from astropy.nddata import CCDData\n",
    "from astropy.io import fits\n",
    "from astropy.visualization import LogStretch, ImageNormalize\n",
    "import pandas as pd\n",
    "from scipy.optimize import minimize\n",
    "import scienceplots"
   ]
  },
  {
   "cell_type": "markdown",
   "metadata": {},
   "source": [
    "## Los cúmulos que se van a usar serán (ordenado de menor a mayor):\n",
    "\n",
    "- El Joyero, NGC 4755 (16 Myr)\n",
    "- M26 / NGC664 (85.3 Myr)\n",
    "- NGC 2808 (12.500 Myr)"
   ]
  },
  {
   "cell_type": "code",
   "execution_count": 12,
   "metadata": {},
   "outputs": [],
   "source": [
    "# Paths\n",
    "\n",
    "path_ngc4755 = os.path.join('data', \"ngc4755.csv\")\n",
    "path_ngc6694 = os.path.join('data', \"ngc6694.csv\")\n",
    "path_ngc2808 = os.path.join('data', \"ngc2808.csv\")"
   ]
  },
  {
   "cell_type": "code",
   "execution_count": 13,
   "metadata": {},
   "outputs": [],
   "source": [
    "#  Tablas de información\n",
    "\n",
    "ngc_4755 = pd.read_csv(path_ngc4755) # 6 arcmin\n",
    "ngc_6694 = pd.read_csv(path_ngc6694) # 4 arcmin\n",
    "ngc_2808 = pd.read_csv(path_ngc2808) # 4 arcmin"
   ]
  },
  {
   "cell_type": "code",
   "execution_count": 14,
   "metadata": {},
   "outputs": [
    {
     "data": {
      "text/plain": [
       "Index(['source_id', 'ra', 'dec', 'parallax', 'pmra', 'pmdec', 'ruwe',\n",
       "       'phot_g_mean_mag', 'phot_bp_mean_mag', 'phot_rp_mean_mag', 'bp_rp',\n",
       "       'bp_g', 'g_rp', 'radial_velocity', 'phot_variable_flag',\n",
       "       'non_single_star', 'has_xp_continuous', 'has_xp_sampled', 'has_rvs',\n",
       "       'has_epoch_photometry', 'has_epoch_rv', 'has_mcmc_gspphot',\n",
       "       'has_mcmc_msc', 'teff_gspphot', 'logg_gspphot', 'mh_gspphot',\n",
       "       'distance_gspphot', 'azero_gspphot', 'ag_gspphot', 'ebpminrp_gspphot'],\n",
       "      dtype='object')"
      ]
     },
     "execution_count": 14,
     "metadata": {},
     "output_type": "execute_result"
    }
   ],
   "source": [
    "ngc_2808.keys() # para ver el nombre de las columnas"
   ]
  },
  {
   "cell_type": "markdown",
   "metadata": {},
   "source": [
    "# DIAGRAMAS HR"
   ]
  },
  {
   "cell_type": "code",
   "execution_count": 15,
   "metadata": {},
   "outputs": [],
   "source": [
    "ngc2808_bprp = ngc_2808['bp_rp']\n",
    "ngc2808_g = ngc_2808['phot_g_mean_mag']\n",
    "ngc2808_ns = ngc_2808['non_single_star']"
   ]
  },
  {
   "cell_type": "code",
   "execution_count": 16,
   "metadata": {},
   "outputs": [],
   "source": [
    "ngc4755_bprp = ngc_4755['bp_rp']\n",
    "ngc4755_v = ngc_4755['phot_g_mean_mag']\n",
    "ngc4755_ns = ngc_4755['non_single_star']"
   ]
  },
  {
   "cell_type": "code",
   "execution_count": 17,
   "metadata": {},
   "outputs": [],
   "source": [
    "ngc6694_bprp = ngc_6694['bp_rp']\n",
    "ngc6694_v = ngc_6694['phot_g_mean_mag']\n",
    "ngc6694_ns = ngc_6694['non_single_star']"
   ]
  },
  {
   "cell_type": "code",
   "execution_count": 18,
   "metadata": {},
   "outputs": [],
   "source": [
    "with plt.style.context(['science', 'ieee']):\n",
    "    fig, ax = plt.subplots()\n",
    "    ax.scatter(ngc2808_bprp, ngc2808_g, s=0.2)\n",
    "    ax.set_title('Diagrama HR - NGC 2808')\n",
    "    ax.set_xlabel('BP - RP')\n",
    "    ax.set_ylabel('$M_{G}$')\n",
    "    ax.set_xlim(-0.5, 2.5)\n",
    "    ax.invert_yaxis()\n",
    "    fig.savefig('figures/HR_diagram_NGC2808.jpg', dpi=600)\n",
    "    plt.close()\n",
    "    fig.tight_layout()"
   ]
  },
  {
   "cell_type": "code",
   "execution_count": null,
   "metadata": {},
   "outputs": [],
   "source": [
    "with plt.style.context(['science', 'ieee']):\n",
    "    fig, ax = plt.subplots()\n",
    "    ax.scatter(ngc6694_bprp, ngc6694_v, s=0.2)\n",
    "    ax.set_title('Diagrama HR - M26')\n",
    "    ax.set_xlabel('BP - RP')\n",
    "    ax.set_ylabel('$M_{G}$')\n",
    "    ax.set_xlim(-1, 4)\n",
    "    ax.set_ylim(11, 21)\n",
    "\n",
    "    ax.invert_yaxis()\n",
    "    fig.savefig('figures/HR_diagram_NGC6694.jpg', dpi=600)\n",
    "    plt.close()\n",
    "    fig.tight_layout()\n"
   ]
  },
  {
   "cell_type": "code",
   "execution_count": null,
   "metadata": {},
   "outputs": [],
   "source": [
    "with plt.style.context(['science', 'ieee']):\n",
    "    fig, ax = plt.subplots()\n",
    "    ax.scatter(ngc4755_bprp, ngc4755_v, s=0.2)\n",
    "    ax.set_title('Diagrama HR - NGC 4755')\n",
    "    ax.set_xlabel('BP - RP')\n",
    "    ax.set_ylabel('$M_{G}$')\n",
    "    ax.set_xlim(-1, 4)\n",
    "    ax.set_ylim(9, 21)\n",
    "    ax.invert_yaxis()\n",
    "    fig.savefig('figures/HR_diagram_NGC4755.jpg', dpi=600)\n",
    "    plt.close()\n",
    "    fig.tight_layout()\n"
   ]
  }
 ],
 "metadata": {
  "kernelspec": {
   "display_name": "Python 3",
   "language": "python",
   "name": "python3"
  },
  "language_info": {
   "codemirror_mode": {
    "name": "ipython",
    "version": 3
   },
   "file_extension": ".py",
   "mimetype": "text/x-python",
   "name": "python",
   "nbconvert_exporter": "python",
   "pygments_lexer": "ipython3",
   "version": "3.10.9"
  }
 },
 "nbformat": 4,
 "nbformat_minor": 2
}
